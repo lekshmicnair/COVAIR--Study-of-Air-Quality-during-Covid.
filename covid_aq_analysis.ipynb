{
 "cells": [
  {
   "cell_type": "code",
   "execution_count": 1,
   "metadata": {},
   "outputs": [],
   "source": [
    "#Dependencies\n",
    "import matplotlib.pyplot as plt\n",
    "import pandas as pd\n",
    "import numpy as np\n",
    "import requests\n",
    "from scipy.stats import linregress"
   ]
  },
  {
   "cell_type": "code",
   "execution_count": 7,
   "metadata": {},
   "outputs": [],
   "source": [
    "#Air quality data\n",
    "aq2020_df = pd.read_csv(\"Resources/aq2020.csv\")\n",
    "aq2019Q1_df = pd.read_csv(\"Resources/aq2019Q1.csv\")\n",
    "aq2019Q2_df = pd.read_csv(\"Resources/aq2019Q2.csv\")\n",
    "aq2019Q3_df = pd.read_csv(\"Resources/aq2019Q3.csv\")\n",
    "\n",
    "#Format dataframe dates\n",
    "date_format = [aq2020_df,aq2019Q1_df,aq2019Q2_df,aq2019Q3_df]\n",
    "for df in date_format:\n",
    "    df['Date'] = pd.to_datetime(df['Date'])"
   ]
  },
  {
   "cell_type": "code",
   "execution_count": 3,
   "metadata": {},
   "outputs": [],
   "source": [
    "#Covid API URL\n",
    "base_url = \"https://api.covid19api.com/dayone/country/\"\n",
    "end_url = \"/status/confirmed\"\n",
    "\n",
    "#Enter country\n",
    "country = \"\"\n",
    "\n",
    "response = requests.get(base_url+country+end_url).json()\n",
    "\n",
    "#On responses, run following code:\n",
    "variable = pd.DataFrame.from_dict(response, orient='columns')\n",
    "\n",
    "#Format covid dataframe dates (now mergable with air quality dataframes)\n",
    "variable['Date'] = variable['Date'].str.strip('T00:00:00Z')\n",
    "variable['Date'] = pd.to_datetime(variable['Date'])"
   ]
  },
  {
   "cell_type": "code",
   "execution_count": null,
   "metadata": {},
   "outputs": [],
   "source": []
  },
  {
   "cell_type": "code",
   "execution_count": null,
   "metadata": {},
   "outputs": [],
   "source": []
  },
  {
   "cell_type": "code",
   "execution_count": null,
   "metadata": {},
   "outputs": [],
   "source": []
  }
 ],
 "metadata": {
  "kernelspec": {
   "display_name": "Python [conda env:PythonData]",
   "language": "python",
   "name": "conda-env-PythonData-py"
  },
  "language_info": {
   "codemirror_mode": {
    "name": "ipython",
    "version": 3
   },
   "file_extension": ".py",
   "mimetype": "text/x-python",
   "name": "python",
   "nbconvert_exporter": "python",
   "pygments_lexer": "ipython3",
   "version": "3.6.10"
  }
 },
 "nbformat": 4,
 "nbformat_minor": 4
}
